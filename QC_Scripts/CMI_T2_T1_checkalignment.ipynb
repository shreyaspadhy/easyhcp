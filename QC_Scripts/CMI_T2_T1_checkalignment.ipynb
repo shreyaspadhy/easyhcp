{
 "cells": [
  {
   "cell_type": "code",
   "execution_count": 29,
   "metadata": {},
   "outputs": [
    {
     "name": "stdout",
     "output_type": "stream",
     "text": [
      "Populating the interactive namespace from numpy and matplotlib\n"
     ]
    }
   ],
   "source": [
    "%pylab inline\n",
    "import nilearn\n",
    "from nilearn.plotting import plot_stat_map\n",
    "import matplotlib.pyplot as plt"
   ]
  },
  {
   "cell_type": "code",
   "execution_count": 3,
   "metadata": {},
   "outputs": [],
   "source": [
    "import pandas as pd"
   ]
  },
  {
   "cell_type": "code",
   "execution_count": 15,
   "metadata": {},
   "outputs": [],
   "source": [
    "df = pd.read_json(\"images.json\")\n",
    "df.rename(columns={0: \"t1\", 1:\"t2\"}, inplace=True)"
   ]
  },
  {
   "cell_type": "code",
   "execution_count": 16,
   "metadata": {},
   "outputs": [
    {
     "data": {
      "text/html": [
       "<div>\n",
       "<style scoped>\n",
       "    .dataframe tbody tr th:only-of-type {\n",
       "        vertical-align: middle;\n",
       "    }\n",
       "\n",
       "    .dataframe tbody tr th {\n",
       "        vertical-align: top;\n",
       "    }\n",
       "\n",
       "    .dataframe thead th {\n",
       "        text-align: right;\n",
       "    }\n",
       "</style>\n",
       "<table border=\"1\" class=\"dataframe\">\n",
       "  <thead>\n",
       "    <tr style=\"text-align: right;\">\n",
       "      <th></th>\n",
       "      <th>t1</th>\n",
       "      <th>t2</th>\n",
       "    </tr>\n",
       "  </thead>\n",
       "  <tbody>\n",
       "    <tr>\n",
       "      <th>0</th>\n",
       "      <td>todo/NDARAA948VFH_T1w.nii</td>\n",
       "      <td>todo/NDARAA948VFH_T2w.nii</td>\n",
       "    </tr>\n",
       "    <tr>\n",
       "      <th>1</th>\n",
       "      <td>todo/NDARAC853DTE_T1w.nii</td>\n",
       "      <td>todo/NDARAC853DTE_T2w.nii</td>\n",
       "    </tr>\n",
       "    <tr>\n",
       "      <th>2</th>\n",
       "      <td>todo/NDARAC904DMU_T1w.nii</td>\n",
       "      <td>todo/NDARAC904DMU_T2w.nii</td>\n",
       "    </tr>\n",
       "    <tr>\n",
       "      <th>3</th>\n",
       "      <td>todo/NDARAE012DGA_T1w.nii</td>\n",
       "      <td>todo/NDARAE012DGA_T2w.nii</td>\n",
       "    </tr>\n",
       "    <tr>\n",
       "      <th>4</th>\n",
       "      <td>todo/NDARAG340ERT_T1w.nii</td>\n",
       "      <td>todo/NDARAG340ERT_T2w.nii</td>\n",
       "    </tr>\n",
       "  </tbody>\n",
       "</table>\n",
       "</div>"
      ],
      "text/plain": [
       "                          t1                         t2\n",
       "0  todo/NDARAA948VFH_T1w.nii  todo/NDARAA948VFH_T2w.nii\n",
       "1  todo/NDARAC853DTE_T1w.nii  todo/NDARAC853DTE_T2w.nii\n",
       "2  todo/NDARAC904DMU_T1w.nii  todo/NDARAC904DMU_T2w.nii\n",
       "3  todo/NDARAE012DGA_T1w.nii  todo/NDARAE012DGA_T2w.nii\n",
       "4  todo/NDARAG340ERT_T1w.nii  todo/NDARAG340ERT_T2w.nii"
      ]
     },
     "execution_count": 16,
     "metadata": {},
     "output_type": "execute_result"
    }
   ],
   "source": [
    "df.head()"
   ]
  },
  {
   "cell_type": "code",
   "execution_count": 20,
   "metadata": {},
   "outputs": [],
   "source": [
    "import nibabel as nib"
   ]
  },
  {
   "cell_type": "code",
   "execution_count": 21,
   "metadata": {},
   "outputs": [],
   "source": [
    "def loader(filename):\n",
    "    return nib.load(filename).get_data()"
   ]
  },
  {
   "cell_type": "code",
   "execution_count": 22,
   "metadata": {},
   "outputs": [],
   "source": [
    "def plotter(t1_file, t2_file):\n",
    "    t1_arr = loader(t1_file)\n",
    "    t2_arr = loader(t2_file)\n",
    "    plot_stat_map(t2_arr, t1_arr)"
   ]
  },
  {
   "cell_type": "code",
   "execution_count": 18,
   "metadata": {},
   "outputs": [
    {
     "data": {
      "text/plain": [
       "u'todo/NDARAA948VFH_T2w.nii'"
      ]
     },
     "execution_count": 18,
     "metadata": {},
     "output_type": "execute_result"
    }
   ],
   "source": [
    "df[\"t2\"][0]"
   ]
  },
  {
   "cell_type": "code",
   "execution_count": 54,
   "metadata": {},
   "outputs": [],
   "source": []
  },
  {
   "cell_type": "code",
   "execution_count": 38,
   "metadata": {},
   "outputs": [
    {
     "data": {
      "text/plain": [
       "(224, 320, 320)"
      ]
     },
     "execution_count": 38,
     "metadata": {},
     "output_type": "execute_result"
    }
   ],
   "source": [
    "t1_arr.shape"
   ]
  },
  {
   "cell_type": "code",
   "execution_count": 46,
   "metadata": {},
   "outputs": [
    {
     "data": {
      "text/plain": [
       "351.0"
      ]
     },
     "execution_count": 46,
     "metadata": {},
     "output_type": "execute_result"
    }
   ],
   "source": [
    "t2_arr.ravel().max()"
   ]
  },
  {
   "cell_type": "code",
   "execution_count": 80,
   "metadata": {},
   "outputs": [
    {
     "data": {
      "text/plain": [
       "324"
      ]
     },
     "execution_count": 80,
     "metadata": {},
     "output_type": "execute_result"
    }
   ],
   "source": [
    "len(df)"
   ]
  },
  {
   "cell_type": "code",
   "execution_count": null,
   "metadata": {},
   "outputs": [
    {
     "name": "stderr",
     "output_type": "stream",
     "text": [
      "/home/slab/environments/saige/local/lib/python2.7/site-packages/matplotlib/pyplot.py:537: RuntimeWarning: More than 20 figures have been opened. Figures created through the pyplot interface (`matplotlib.pyplot.figure`) are retained until explicitly closed and may consume too much memory. (To control this warning, see the rcParam `figure.max_open_warning`).\n",
      "  max_open_warning, RuntimeWarning)\n"
     ]
    }
   ],
   "source": [
    "from skimage.filters import threshold_otsu\n",
    "import scipy.misc\n",
    "import os\n",
    "\n",
    "cwd = os.getcwd()\n",
    "index = range(0, 323)\n",
    "for i in index:\n",
    "    t1_arr = loader(df[\"t1\"][i])\n",
    "    t2_arr = loader(df[\"t2\"][i])\n",
    "    fig, ax = plt.subplots(1)\n",
    "    ax.imshow(t1_arr[:,:,210].T[::-1,:], cmap=plt.cm.Greys_r)\n",
    "    t = threshold_otsu(t2_arr)\n",
    "    t2_arr[t2_arr < t] = np.nan\n",
    "    ax.imshow(t2_arr[:,:,210].T[::-1,:], cmap=plt.cm.Reds, alpha=0.5)\n",
    "    ax.axis(\"off\")\n",
    "    fig.savefig('{}/overlay_images/{}.jpg'.format(cwd,i))"
   ]
  },
  {
   "cell_type": "code",
   "execution_count": 77,
   "metadata": {},
   "outputs": [],
   "source": [
    "import os\n",
    "import img2pdf\n",
    "\n",
    "with open(\"CheckReg.pdf\", \"wb\") as f:\n",
    "    f.write(img2pdf.convert([i for i in os.listdir('todo/') if i.endswith(\".jpg\")]))"
   ]
  },
  {
   "cell_type": "code",
   "execution_count": null,
   "metadata": {},
   "outputs": [],
   "source": []
  }
 ],
 "metadata": {
  "kernelspec": {
   "display_name": "Python 2",
   "language": "python",
   "name": "python2"
  },
  "language_info": {
   "codemirror_mode": {
    "name": "ipython",
    "version": 2
   },
   "file_extension": ".py",
   "mimetype": "text/x-python",
   "name": "python",
   "nbconvert_exporter": "python",
   "pygments_lexer": "ipython2",
   "version": "2.7.13"
  }
 },
 "nbformat": 4,
 "nbformat_minor": 2
}
